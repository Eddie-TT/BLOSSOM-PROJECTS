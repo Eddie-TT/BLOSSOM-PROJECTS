{
 "cells": [
  {
   "cell_type": "code",
   "execution_count": 2,
   "metadata": {},
   "outputs": [],
   "source": [
    "#IMPORTING RELEVANT PACKAGES\n",
    "\n",
    "from pyspark.sql import SparkSession\n",
    "from pyspark.sql import functions as F\n",
    "from pyspark.sql.functions import col\n",
    "from pyspark.sql.types import BooleanType\n",
    "from pyspark.sql.functions import udf\n",
    "from pyspark.sql import Window\n",
    "from datetime import datetime\n",
    "import re\n",
    "from pyspark.sql.functions import regexp_extract  "
   ]
  },
  {
   "cell_type": "code",
   "execution_count": 29,
   "metadata": {},
   "outputs": [],
   "source": [
    "spark = (\n",
    "    SparkSession.builder\n",
    "                .appName(\"Stack Overflow Data Wrangling\")\n",
    "                .getOrCreate()\n",
    ")"
   ]
  },
  {
   "cell_type": "code",
   "execution_count": 4,
   "metadata": {},
   "outputs": [],
   "source": [
    "#LOADING OUR DATASETS\n",
    "\n",
    "questions = spark.read.csv(\"/home/eddie/Desktop/Blossom_Eddie/Stackoverflow/questions.csv\", header=True,\n",
    "                          inferSchema=True, escape='\"', multiLine=True)\n",
    "\n",
    "answers = spark.read.csv(\"/home/eddie/Desktop/Blossom_Eddie/Stackoverflow/answers.csv\", header=True,\n",
    "                          inferSchema=True, escape='\"', multiLine=True)\n",
    "\n",
    "users = spark.read.csv(\"/home/eddie/Desktop/Blossom_Eddie/Stackoverflow/users.csv\", header=True,\n",
    "                          inferSchema=True, escape='\"', multiLine=True)"
   ]
  },
  {
   "cell_type": "code",
   "execution_count": 5,
   "metadata": {},
   "outputs": [],
   "source": [
    "#LOOPING THROUGH QUESTION DATASET AND RENAMING COLUMNS ADDING ('_questions')\n",
    "for questions_col in questions.columns:\n",
    "    if questions_col in answers.columns + users.columns:\n",
    "        questions = questions.withColumnRenamed(questions_col, questions_col + '_' + 'questions')"
   ]
  },
  {
   "cell_type": "code",
   "execution_count": 6,
   "metadata": {},
   "outputs": [
    {
     "name": "stdout",
     "output_type": "stream",
     "text": [
      "+------------+\n",
      "|id_questions|\n",
      "+------------+\n",
      "|    54233315|\n",
      "|    54233145|\n",
      "|    54233331|\n",
      "|    54233149|\n",
      "|    54233337|\n",
      "|    54233360|\n",
      "|    54233254|\n",
      "|    54233264|\n",
      "|    54243261|\n",
      "|    54313205|\n",
      "|    54233168|\n",
      "|    54233170|\n",
      "|    54233177|\n",
      "|    54233196|\n",
      "|    54233211|\n",
      "|    54233218|\n",
      "|    54233270|\n",
      "|    54027043|\n",
      "|    54233393|\n",
      "|    54233398|\n",
      "+------------+\n",
      "only showing top 20 rows\n",
      "\n"
     ]
    }
   ],
   "source": [
    "questions.select('id_questions').show()"
   ]
  },
  {
   "cell_type": "code",
   "execution_count": 7,
   "metadata": {},
   "outputs": [],
   "source": [
    "#LOOPING THROUGH ANSWERS DATASET AND RENAMING COLUMNS ADDING ('_answers')\n",
    "for answers_col in answers.columns:\n",
    "    if answers_col in questions.columns + users.columns:\n",
    "        answers = answers.withColumnRenamed(answers_col, answers_col + '_' + 'answers')"
   ]
  },
  {
   "cell_type": "code",
   "execution_count": 8,
   "metadata": {},
   "outputs": [],
   "source": [
    "#LOOPING THROUGH USERS DATASET AND RENAMING COLUMNS ADDING ('_users')\n",
    "for users_col in users.columns:\n",
    "    if users_col in answers.columns + questions.columns:\n",
    "        users = users.withColumnRenamed(users_col, users_col + '_' + 'users')"
   ]
  },
  {
   "cell_type": "code",
   "execution_count": 9,
   "metadata": {},
   "outputs": [
    {
     "name": "stdout",
     "output_type": "stream",
     "text": [
      "+----------------------------------------------------+\n",
      "|location                                            |\n",
      "+----------------------------------------------------+\n",
      "|Bangalore, Karnataka, India                         |\n",
      "|Canada                                              |\n",
      "|Pennsylvania, United States                         |\n",
      "|null                                                |\n",
      "|New Delhi, Delhi, India                             |\n",
      "|null                                                |\n",
      "|日本 Tōkyō                                          |\n",
      "|null                                                |\n",
      "|null                                                |\n",
      "|Gharaunda, Haryana, India                           |\n",
      "|null                                                |\n",
      "|Passo Fundo, RS, Brasil                             |\n",
      "|null                                                |\n",
      "|New Delhi, India                                    |\n",
      "|null                                                |\n",
      "|Patras, Greece                                      |\n",
      "|Turkey                                              |\n",
      "|Jalandhar, Punjab, India                            |\n",
      "|Surat, Gujarat, India                               |\n",
      "|Makassar, Kota Makassar, Sulawesi Selatan, Indonesia|\n",
      "|Darjeeling, West Bengal, India                      |\n",
      "|Bronx, NY, USA                                      |\n",
      "|null                                                |\n",
      "|Pune, Maharashtra, India                            |\n",
      "|Mumbai, Maharashtra, India                          |\n",
      "|Bangalore, Karnataka, India                         |\n",
      "|Serbia                                              |\n",
      "|null                                                |\n",
      "|null                                                |\n",
      "|Woodbridge, VA, USA                                 |\n",
      "|null                                                |\n",
      "|Ukraine                                             |\n",
      "|Mumbai, Maharashtra, India                          |\n",
      "|null                                                |\n",
      "|null                                                |\n",
      "|United States                                       |\n",
      "|Luso, Portugal                                      |\n",
      "|Berlin, Deutschland                                 |\n",
      "|Bangalore, Karnataka, India                         |\n",
      "|null                                                |\n",
      "|Nootdorp, Nederland                                 |\n",
      "|null                                                |\n",
      "|null                                                |\n",
      "|Mumbai, Maharashtra, India                          |\n",
      "|Helsingborg, Sweden                                 |\n",
      "|null                                                |\n",
      "|Queenstown, New Zealand                             |\n",
      "|null                                                |\n",
      "|null                                                |\n",
      "|Hyderabad, Telangana, India                         |\n",
      "+----------------------------------------------------+\n",
      "only showing top 50 rows\n",
      "\n"
     ]
    }
   ],
   "source": [
    "#SHOWING THE LOCATION COLUMN\n",
    "users.select('location').show(50, truncate=False)"
   ]
  },
  {
   "cell_type": "code",
   "execution_count": 10,
   "metadata": {},
   "outputs": [
    {
     "name": "stdout",
     "output_type": "stream",
     "text": [
      "+--------+--------------------+----------+--------------------+--------------------+--------------------+-----+--------+----------+--------------------+-------------------+-------------------+\n",
      "|      id|        display_name|reputation|         website_url|            location|            about_me|views|up_votes|down_votes|           image_url|         created_at|         updated_at|\n",
      "+--------+--------------------+----------+--------------------+--------------------+--------------------+-----+--------+----------+--------------------+-------------------+-------------------+\n",
      "| 4699799|        Niels Albers|         1|                null|Driebergen, Drieb...|                null|    1|       0|         0|https://graph.fac...|2015-03-22 13:13:32|2019-10-01 13:18:23|\n",
      "| 4688933|         Joe Vrolijk|         7|                null|Amsterdam, Nether...|                null|    8|       0|         0|https://lh5.googl...|2015-03-19 09:06:50|2019-10-12 10:14:27|\n",
      "| 8383926|       kumar navneet|         1|                null|         Netherlands|                null|    5|       0|         0|https://lh6.googl...|2017-07-28 20:26:00|2019-10-06 22:52:09|\n",
      "|10279182|         Cukkinisrác|         3|                null|         Netherlands|                null|    1|       0|         0|https://www.grava...|2018-08-27 09:34:12|2019-01-28 16:48:28|\n",
      "| 2699750|             Olivier|         6|http://www.olivie...|         Netherlands|                null|    9|       0|         0|https://www.grava...|2013-08-20 11:54:27|2019-04-26 10:40:49|\n",
      "|10334976|        Woof Fighter|         1|                null|         Netherlands|                null|   10|       0|         0|https://lh3.googl...|2018-09-08 14:59:39|2019-10-05 12:51:24|\n",
      "| 6608273|          mesarikaya|         5|https://mesarikay...|Amsterdam, Nether...|<p><strong>I'm a ...|    4|       0|         0|https://i.stack.i...|2016-07-19 11:31:39|2019-10-08 07:21:45|\n",
      "|10379769|             tretron|         1|http://www.lkjroo...|     The Netherlands|<p>Student mechat...|    0|       0|         0|https://lh6.googl...|2018-09-18 10:26:12|2019-06-05 12:39:36|\n",
      "|10369533|       Saverio Guzzo|         1|                null|Amsterdam, Nether...|<p>Management Eng...|    2|       0|         0|https://lh6.googl...|2018-09-16 02:16:51|2019-10-11 15:07:17|\n",
      "| 8511390|Svetlana Pereverzeva|         1|                null|Rotterdam, Nether...|                null|    7|       0|         0|https://graph.fac...|2017-08-24 11:36:08|2019-10-12 17:15:05|\n",
      "|10404556|                Kiip|         1|https://www.kiipd...|         Netherlands|       <p>Hello</p>\n",
      "|    3|       0|         0|                null|2018-09-23 16:41:58|2019-10-12 13:47:14|\n",
      "|10400680|          Боян Дечев|         3|                null|Eindhoven, Nether...|                null|    5|       0|         0|https://i.stack.i...|2018-09-22 13:04:57|2019-04-06 17:13:02|\n",
      "|10402313|        David Costin|         6|                null|         Netherlands|                null|    4|       0|         0|https://graph.fac...|2018-09-23 00:22:37|2019-07-01 19:40:37|\n",
      "| 8532023|     Zr.Ms. Bruinvis|         6|                null|         Netherlands|                null|   16|       0|         0|https://www.grava...|2017-08-29 10:20:22|2019-09-30 07:50:16|\n",
      "| 8560767|         Bombajofter|         1|                null|Amstelveen, Nethe...|                null|    1|       0|         0|https://www.grava...|2017-09-04 23:40:04|2019-06-24 12:17:39|\n",
      "| 8568850|               Subha|         1|                null|         Netherlands|                null|    8|       0|         0|https://www.grava...|2017-09-06 11:48:10|2019-08-15 11:37:10|\n",
      "|10458473|           Xin Zhang|         6|                null|     The Netherlands|                null|    7|       0|         0|https://graph.fac...|2018-10-04 19:23:49|2019-09-12 14:11:53|\n",
      "|10471355|              uKum14|         1|                null|         Netherlands|<p>Short brief: T...|    2|       0|         0|https://i.stack.i...|2018-10-08 05:58:47|2019-08-05 15:39:22|\n",
      "|10483550|         TheShaws358|         1|http://www.steamc...|Amsterdam, Nether...|<p>I usually I pl...|   28|       0|         0|https://i.stack.i...|2018-10-10 10:20:48|2019-10-12 10:37:02|\n",
      "|10490595|            Ruud Bos|         1|                null|Roermond, Netherl...|                null|    4|       0|         0|https://graph.fac...|2018-10-11 15:11:19|2019-02-15 14:31:28|\n",
      "+--------+--------------------+----------+--------------------+--------------------+--------------------+-----+--------+----------+--------------------+-------------------+-------------------+\n",
      "only showing top 20 rows\n",
      "\n"
     ]
    }
   ],
   "source": [
    "#FILTERING LOCATION COLUMN FROM THE USERS DATASET CONTAINING 'NETHERLANDS'\n",
    "users = users.filter(users.location.contains('Netherlands')); users.show()"
   ]
  },
  {
   "cell_type": "code",
   "execution_count": 11,
   "metadata": {},
   "outputs": [],
   "source": [
    "#SPLITTING THE LOCATION COLUMN INTO 2 NEW COLUMNS 'city' & 'country'\n",
    "\n",
    "users = users.withColumn('city', F.split('location', ',')[0])\n",
    "users = users.withColumn('country', F.split('location', ',')[1])"
   ]
  },
  {
   "cell_type": "code",
   "execution_count": 12,
   "metadata": {},
   "outputs": [
    {
     "name": "stdout",
     "output_type": "stream",
     "text": [
      "+--------+--------------------+----------+--------------------+--------------------+--------------------+-----+--------+----------+--------------------+-------------------+-------------------+---------------+----------------+------------+-----------------+--------------------+--------------------+------------------+---------------+----------+-----------------------+--------------------+\n",
      "|      id|        display_name|reputation|         website_url|            location|            about_me|views|up_votes|down_votes|           image_url|         created_at|         updated_at|           city|         country|id_questions|user_id_questions|               title|      body_questions|accepted_answer_id|score_questions|view_count|comment_count_questions|created_at_questions|\n",
      "+--------+--------------------+----------+--------------------+--------------------+--------------------+-----+--------+----------+--------------------+-------------------+-------------------+---------------+----------------+------------+-----------------+--------------------+--------------------+------------------+---------------+----------+-----------------------+--------------------+\n",
      "|  887778|      robinvdvleuten|       639|https://robinvdvl...|         Netherlands|                null|   45|      38|         1|                null|2011-08-10 11:22:28|2019-10-12 21:58:12|    Netherlands|            null|    54026287|           887778|Why is my attribu...|<p>I am building ...|          54027837|              0|        42|                      3| 2019-01-03 16:33:42|\n",
      "| 2765687|         Erik Leppen|        65|http://www.erikle...|         Netherlands|<p>Mathematician;...|   16|       8|         0|                null|2013-09-10 15:47:26|2019-09-06 10:37:36|    Netherlands|            null|    56144301|          2765687|Javascript object...|<p>I'm trying to ...|          56144691|              2|        39|                      0| 2019-05-15 08:00:49|\n",
      "| 3997629|            Mytzenka|        61|                null|Noord-Brabant, Ne...|<p>I am a test au...|   18|      12|         0|https://www.grava...|2014-09-01 14:51:50|2019-10-12 08:25:02|  Noord-Brabant|     Netherlands|    55030293|          3997629|Regex to optional...|<p>I can't for th...|          55030497|              1|        65|                      2| 2019-03-06 18:54:26|\n",
      "| 4688933|         Joe Vrolijk|         7|                null|Amsterdam, Nether...|                null|    8|       0|         0|https://lh5.googl...|2015-03-19 09:06:50|2019-10-12 10:14:27|      Amsterdam|     Netherlands|    55969258|          4688933|NodeJS - Express ...|<p>I'm trying to ...|          55969589|              0|        40|                      0| 2019-05-03 11:51:07|\n",
      "| 6476567|            spiros_m|         6|                null|         Netherlands|                null|    4|       0|         0|https://www.grava...|2016-06-16 20:52:09|2019-10-11 17:11:33|    Netherlands|            null|    56276023|          6476567|How to grab filep...|<p>I'm using Ansi...|          56276220|              0|        29|                      0| 2019-05-23 13:10:55|\n",
      "| 9187350|        Renato Damas|      2044|http://renatodama...|Eindhoven, Nether...|<p>This user has ...|  211|      42|         6|https://i.stack.i...|2018-01-08 09:52:54|2019-10-12 19:27:13|      Eindhoven|     Netherlands|    55632440|          9187350|CSS border around...|<p>I am trying to...|              null|              4|        83|                     19| 2019-04-11 12:23:15|\n",
      "| 9187350|        Renato Damas|      2044|http://renatodama...|Eindhoven, Nether...|<p>This user has ...|  211|      42|         6|https://i.stack.i...|2018-01-08 09:52:54|2019-10-12 19:27:13|      Eindhoven|     Netherlands|    56687346|          9187350|Python, importing...|<p>Very easy issu...|              null|              1|        84|                      6| 2019-06-20 13:43:18|\n",
      "|10856356|                Roel|        15|                null|         Netherlands|                null|    5|       0|         0|https://www.grava...|2019-01-02 05:47:28|2019-10-10 05:37:05|    Netherlands|            null|    55394300|         10856356|Create tidy data ...|<p>I am conductin...|          55394751|              0|        34|                      0| 2019-03-28 09:37:11|\n",
      "|10856356|                Roel|        15|                null|         Netherlands|                null|    5|       0|         0|https://www.grava...|2019-01-02 05:47:28|2019-10-10 05:37:05|    Netherlands|            null|    56665286|         10856356|Test multiple col...|<p>As part of an ...|          56667275|              0|        41|                      1| 2019-06-19 10:14:21|\n",
      "| 7071141|               sybro|         6|                null|     The Netherlands|                null|    4|       0|         0|https://i.stack.i...|2016-10-25 17:50:50|2019-09-17 21:04:47|The Netherlands|            null|    56455976|          7071141|Selecting data so...|<p>I'm currently ...|              null|              1|        68|                      0| 2019-06-05 07:30:49|\n",
      "| 9861083|        Jasper Landa|        19|                null|     The Netherlands|                null|    1|       0|         0|https://www.grava...|2018-05-28 22:03:57|2019-01-22 20:54:39|The Netherlands|            null|    54272151|          9861083|How to set-up nes...|<p>I'm currently ...|              null|              3|        51|                      0| 2019-01-19 23:11:00|\n",
      "|10626430|             Shaw358|         8|                null|Amsterdam, Nether...|                null|    5|       0|         0|https://lh4.googl...|2018-11-08 23:40:28|2019-05-04 12:53:40|      Amsterdam|     Netherlands|    55953332|         10626430|null reference ex...|<p>I get the null...|              null|              0|        58|                      3| 2019-05-02 13:14:28|\n",
      "|10936967|              klaver|         1|                null|         Netherlands|                null|    3|       0|         0|https://www.grava...|2019-01-19 09:50:39|2019-02-19 16:00:12|    Netherlands|            null|    54449394|         10936967|send output UIDat...|<p>I am really ne...|              null|             -1|        33|                      2| 2019-01-30 20:56:21|\n",
      "|  153258|   Nikolaos Georgiou|      1837|  https://ngeor.com/|Amsterdam, Nether...|                null|  235|     233|        17|https://i.stack.i...|2009-08-09 10:40:16|2019-10-08 09:41:38|      Amsterdam|     Netherlands|    54036400|           153258|pythonic style fo...|<p>I don't have m...|          54036534|              4|       167|                      4| 2019-01-04 09:43:38|\n",
      "| 7666972|Vijayanath Viswan...|      4229|http://www.codewi...|         Netherlands|<p><a href=\"https...|  603|      82|         6|https://i.stack.i...|2017-03-06 14:23:05|2019-10-12 18:32:46|    Netherlands|            null|    55281504|          7666972|Azure Function cu...|<p>I got a HTTP t...|              null|              1|       576|                      0| 2019-03-21 13:26:50|\n",
      "|10114072|  Gabriele Romagnoli|         9|                null|         Netherlands|                null|    4|       0|         0|https://i.stack.i...|2018-07-21 07:24:40|2019-07-19 18:39:35|    Netherlands|            null|    56090241|         10114072|How do i split a ...|<p>I have a set o...|              null|             -1|        48|                      1| 2019-05-11 12:11:45|\n",
      "|11475651|                Abed|         1|                null|Utrecht, Netherlands|<p>I'm a mature (...|    2|       0|         0|https://www.grava...|2019-05-09 12:22:14|2019-06-11 15:51:20|        Utrecht|     Netherlands|    56532467|         11475651|Accessing/indexin...|<p>I have a dataf...|              null|              0|        43|                      0| 2019-06-10 19:30:35|\n",
      "| 1259558|    Danny Gloudemans|      1357|                null|Eindhoven, Nether...|                null|  217|     121|        20|                null|2012-03-09 14:53:20|2019-10-10 09:22:50|      Eindhoven|     Netherlands|    55434800|          1259558|Translate header ...|<p>I'm already tr...|              null|              0|       691|                      0| 2019-03-30 19:04:17|\n",
      "|  555132|          Alexandros|       133|                null|Amsterdam, The Ne...|                null|   26|      38|         0|                null|2010-12-27 16:23:30|2019-08-05 14:34:28|      Amsterdam| The Netherlands|    54004429|           555132|Error connecting ...|<p>I have a snipp...|          54085954|              1|       145|                      0| 2019-01-02 10:09:57|\n",
      "| 2548426|              Robert|        40|                null|Eindhoven, Nether...|                null|   13|       3|         0|https://i.stack.i...|2013-07-03 22:20:13|2019-03-16 12:30:45|      Eindhoven|     Netherlands|    54401814|          2548426|Template speciali...|<p>I made a templ...|          54403471|              1|        69|                      1| 2019-01-28 12:14:40|\n",
      "+--------+--------------------+----------+--------------------+--------------------+--------------------+-----+--------+----------+--------------------+-------------------+-------------------+---------------+----------------+------------+-----------------+--------------------+--------------------+------------------+---------------+----------+-----------------------+--------------------+\n",
      "only showing top 20 rows\n",
      "\n"
     ]
    }
   ],
   "source": [
    "#JOINING OUR NEW USERS DATASET WITH QUESTIONS\n",
    "joint = users.join(questions, questions.user_id_questions == users.id, how = 'inner'); joint.show()"
   ]
  },
  {
   "cell_type": "code",
   "execution_count": 13,
   "metadata": {},
   "outputs": [
    {
     "data": {
      "text/plain": [
       "0"
      ]
     },
     "execution_count": 13,
     "metadata": {},
     "output_type": "execute_result"
    }
   ],
   "source": [
    "#CHECKING THE TOTAL NUMBER OF NULL VALUES IN THE 'view_count' COLUMN\n",
    "joint.select('view_count').filter(joint.view_count.isNull()).count()"
   ]
  },
  {
   "cell_type": "code",
   "execution_count": 14,
   "metadata": {},
   "outputs": [
    {
     "name": "stdout",
     "output_type": "stream",
     "text": [
      "+----------+\n",
      "|view_count|\n",
      "+----------+\n",
      "|        46|\n",
      "|       101|\n",
      "|       489|\n",
      "|        41|\n",
      "|        32|\n",
      "|       594|\n",
      "|       131|\n",
      "|      8303|\n",
      "|       358|\n",
      "|        39|\n",
      "|       691|\n",
      "|       108|\n",
      "|       135|\n",
      "|        50|\n",
      "|        57|\n",
      "|       392|\n",
      "|      1554|\n",
      "|        39|\n",
      "|       931|\n",
      "|        96|\n",
      "+----------+\n",
      "only showing top 20 rows\n",
      "\n"
     ]
    }
   ],
   "source": [
    "#CHECKING WHAT THE COLUMN LOOKS LIKE\n",
    "joint.select('view_count').show()"
   ]
  },
  {
   "cell_type": "code",
   "execution_count": 15,
   "metadata": {},
   "outputs": [
    {
     "name": "stdout",
     "output_type": "stream",
     "text": [
      "+--------+--------------------+----------+--------------------+--------------------+--------------------+-----+--------+----------+--------------------+-------------------+-------------------+---------------+----------------+------------+-----------------+--------------------+--------------------+------------------+---------------+----------+-----------------------+--------------------+\n",
      "|      id|        display_name|reputation|         website_url|            location|            about_me|views|up_votes|down_votes|           image_url|         created_at|         updated_at|           city|         country|id_questions|user_id_questions|               title|      body_questions|accepted_answer_id|score_questions|view_count|comment_count_questions|created_at_questions|\n",
      "+--------+--------------------+----------+--------------------+--------------------+--------------------+-----+--------+----------+--------------------+-------------------+-------------------+---------------+----------------+------------+-----------------+--------------------+--------------------+------------------+---------------+----------+-----------------------+--------------------+\n",
      "|  887778|      robinvdvleuten|       639|https://robinvdvl...|         Netherlands|                null|   45|      38|         1|                null|2011-08-10 11:22:28|2019-10-12 21:58:12|    Netherlands|            null|    54026287|           887778|Why is my attribu...|<p>I am building ...|          54027837|              0|        42|                      3| 2019-01-03 16:33:42|\n",
      "| 2765687|         Erik Leppen|        65|http://www.erikle...|         Netherlands|<p>Mathematician;...|   16|       8|         0|                null|2013-09-10 15:47:26|2019-09-06 10:37:36|    Netherlands|            null|    56144301|          2765687|Javascript object...|<p>I'm trying to ...|          56144691|              2|        39|                      0| 2019-05-15 08:00:49|\n",
      "| 3997629|            Mytzenka|        61|                null|Noord-Brabant, Ne...|<p>I am a test au...|   18|      12|         0|https://www.grava...|2014-09-01 14:51:50|2019-10-12 08:25:02|  Noord-Brabant|     Netherlands|    55030293|          3997629|Regex to optional...|<p>I can't for th...|          55030497|              1|        65|                      2| 2019-03-06 18:54:26|\n",
      "| 4688933|         Joe Vrolijk|         7|                null|Amsterdam, Nether...|                null|    8|       0|         0|https://lh5.googl...|2015-03-19 09:06:50|2019-10-12 10:14:27|      Amsterdam|     Netherlands|    55969258|          4688933|NodeJS - Express ...|<p>I'm trying to ...|          55969589|              0|        40|                      0| 2019-05-03 11:51:07|\n",
      "| 6476567|            spiros_m|         6|                null|         Netherlands|                null|    4|       0|         0|https://www.grava...|2016-06-16 20:52:09|2019-10-11 17:11:33|    Netherlands|            null|    56276023|          6476567|How to grab filep...|<p>I'm using Ansi...|          56276220|              0|        29|                      0| 2019-05-23 13:10:55|\n",
      "| 9187350|        Renato Damas|      2044|http://renatodama...|Eindhoven, Nether...|<p>This user has ...|  211|      42|         6|https://i.stack.i...|2018-01-08 09:52:54|2019-10-12 19:27:13|      Eindhoven|     Netherlands|    55632440|          9187350|CSS border around...|<p>I am trying to...|              null|              4|        83|                     19| 2019-04-11 12:23:15|\n",
      "| 9187350|        Renato Damas|      2044|http://renatodama...|Eindhoven, Nether...|<p>This user has ...|  211|      42|         6|https://i.stack.i...|2018-01-08 09:52:54|2019-10-12 19:27:13|      Eindhoven|     Netherlands|    56687346|          9187350|Python, importing...|<p>Very easy issu...|              null|              1|        84|                      6| 2019-06-20 13:43:18|\n",
      "|10856356|                Roel|        15|                null|         Netherlands|                null|    5|       0|         0|https://www.grava...|2019-01-02 05:47:28|2019-10-10 05:37:05|    Netherlands|            null|    55394300|         10856356|Create tidy data ...|<p>I am conductin...|          55394751|              0|        34|                      0| 2019-03-28 09:37:11|\n",
      "|10856356|                Roel|        15|                null|         Netherlands|                null|    5|       0|         0|https://www.grava...|2019-01-02 05:47:28|2019-10-10 05:37:05|    Netherlands|            null|    56665286|         10856356|Test multiple col...|<p>As part of an ...|          56667275|              0|        41|                      1| 2019-06-19 10:14:21|\n",
      "| 7071141|               sybro|         6|                null|     The Netherlands|                null|    4|       0|         0|https://i.stack.i...|2016-10-25 17:50:50|2019-09-17 21:04:47|The Netherlands|            null|    56455976|          7071141|Selecting data so...|<p>I'm currently ...|              null|              1|        68|                      0| 2019-06-05 07:30:49|\n",
      "| 9861083|        Jasper Landa|        19|                null|     The Netherlands|                null|    1|       0|         0|https://www.grava...|2018-05-28 22:03:57|2019-01-22 20:54:39|The Netherlands|            null|    54272151|          9861083|How to set-up nes...|<p>I'm currently ...|              null|              3|        51|                      0| 2019-01-19 23:11:00|\n",
      "|10626430|             Shaw358|         8|                null|Amsterdam, Nether...|                null|    5|       0|         0|https://lh4.googl...|2018-11-08 23:40:28|2019-05-04 12:53:40|      Amsterdam|     Netherlands|    55953332|         10626430|null reference ex...|<p>I get the null...|              null|              0|        58|                      3| 2019-05-02 13:14:28|\n",
      "|10936967|              klaver|         1|                null|         Netherlands|                null|    3|       0|         0|https://www.grava...|2019-01-19 09:50:39|2019-02-19 16:00:12|    Netherlands|            null|    54449394|         10936967|send output UIDat...|<p>I am really ne...|              null|             -1|        33|                      2| 2019-01-30 20:56:21|\n",
      "|  153258|   Nikolaos Georgiou|      1837|  https://ngeor.com/|Amsterdam, Nether...|                null|  235|     233|        17|https://i.stack.i...|2009-08-09 10:40:16|2019-10-08 09:41:38|      Amsterdam|     Netherlands|    54036400|           153258|pythonic style fo...|<p>I don't have m...|          54036534|              4|       167|                      4| 2019-01-04 09:43:38|\n",
      "| 7666972|Vijayanath Viswan...|      4229|http://www.codewi...|         Netherlands|<p><a href=\"https...|  603|      82|         6|https://i.stack.i...|2017-03-06 14:23:05|2019-10-12 18:32:46|    Netherlands|            null|    55281504|          7666972|Azure Function cu...|<p>I got a HTTP t...|              null|              1|       576|                      0| 2019-03-21 13:26:50|\n",
      "|10114072|  Gabriele Romagnoli|         9|                null|         Netherlands|                null|    4|       0|         0|https://i.stack.i...|2018-07-21 07:24:40|2019-07-19 18:39:35|    Netherlands|            null|    56090241|         10114072|How do i split a ...|<p>I have a set o...|              null|             -1|        48|                      1| 2019-05-11 12:11:45|\n",
      "|11475651|                Abed|         1|                null|Utrecht, Netherlands|<p>I'm a mature (...|    2|       0|         0|https://www.grava...|2019-05-09 12:22:14|2019-06-11 15:51:20|        Utrecht|     Netherlands|    56532467|         11475651|Accessing/indexin...|<p>I have a dataf...|              null|              0|        43|                      0| 2019-06-10 19:30:35|\n",
      "| 1259558|    Danny Gloudemans|      1357|                null|Eindhoven, Nether...|                null|  217|     121|        20|                null|2012-03-09 14:53:20|2019-10-10 09:22:50|      Eindhoven|     Netherlands|    55434800|          1259558|Translate header ...|<p>I'm already tr...|              null|              0|       691|                      0| 2019-03-30 19:04:17|\n",
      "|  555132|          Alexandros|       133|                null|Amsterdam, The Ne...|                null|   26|      38|         0|                null|2010-12-27 16:23:30|2019-08-05 14:34:28|      Amsterdam| The Netherlands|    54004429|           555132|Error connecting ...|<p>I have a snipp...|          54085954|              1|       145|                      0| 2019-01-02 10:09:57|\n",
      "| 2548426|              Robert|        40|                null|Eindhoven, Nether...|                null|   13|       3|         0|https://i.stack.i...|2013-07-03 22:20:13|2019-03-16 12:30:45|      Eindhoven|     Netherlands|    54401814|          2548426|Template speciali...|<p>I made a templ...|          54403471|              1|        69|                      1| 2019-01-28 12:14:40|\n",
      "+--------+--------------------+----------+--------------------+--------------------+--------------------+-----+--------+----------+--------------------+-------------------+-------------------+---------------+----------------+------------+-----------------+--------------------+--------------------+------------------+---------------+----------+-----------------------+--------------------+\n",
      "only showing top 20 rows\n",
      "\n"
     ]
    }
   ],
   "source": [
    "#FILTERING THE DATASET BY 'view_count' greater than or equal to 20\n",
    "joint = joint.filter(col('view_count') >= 20)\n",
    "joint.show()"
   ]
  },
  {
   "cell_type": "code",
   "execution_count": 16,
   "metadata": {},
   "outputs": [
    {
     "name": "stdout",
     "output_type": "stream",
     "text": [
      "+-------------------+\n",
      "|updated_at         |\n",
      "+-------------------+\n",
      "|2019-10-10 07:57:22|\n",
      "|2019-04-15 15:21:54|\n",
      "|2019-10-04 21:42:18|\n",
      "|2019-09-24 15:18:58|\n",
      "|2019-01-10 09:15:31|\n",
      "|2019-01-21 21:09:45|\n",
      "|2019-10-08 09:04:34|\n",
      "|2019-10-12 22:00:20|\n",
      "|2019-10-12 15:06:42|\n",
      "|2019-10-03 09:30:02|\n",
      "|2019-09-24 06:30:48|\n",
      "|2019-10-09 10:01:16|\n",
      "|2019-10-12 15:50:37|\n",
      "|2019-08-01 18:26:08|\n",
      "|2019-10-12 06:35:21|\n",
      "|2019-10-10 06:00:05|\n",
      "|2019-01-20 18:42:56|\n",
      "|2019-10-13 01:51:07|\n",
      "|2019-09-01 06:08:43|\n",
      "|2019-10-08 11:17:30|\n",
      "+-------------------+\n",
      "only showing top 20 rows\n",
      "\n"
     ]
    }
   ],
   "source": [
    "joint.select('updated_at').filter(joint.updated_at.isNotNull()).show(truncate=False)"
   ]
  },
  {
   "cell_type": "code",
   "execution_count": 17,
   "metadata": {},
   "outputs": [
    {
     "name": "stdout",
     "output_type": "stream",
     "text": [
      "+----------+--------+-----------+\n",
      "|id_answers| user_id|question_id|\n",
      "+----------+--------+-----------+\n",
      "|  53999517| 1771994|   53999275|\n",
      "|  54005064|  948762|   54004882|\n",
      "|  53995281| 5159168|   53995029|\n",
      "|  54000208| 7964527|   54000128|\n",
      "|  54005110| 9653876|   54003879|\n",
      "|  53993534|10791196|   53993516|\n",
      "|  54000209| 5195552|   53998312|\n",
      "|  54000210| 8968602|   54000125|\n",
      "|  54005119| 9832922|   54004920|\n",
      "|  54005157| 6654100|   54004924|\n",
      "|  54000215|10676716|   54000129|\n",
      "|  54005202|10834092|   53998422|\n",
      "|  54002921| 6387236|   54002865|\n",
      "|  54052820| 3187033|   54052755|\n",
      "|  54005239| 5173426|   54004875|\n",
      "|  53999237| 2275482|   53999149|\n",
      "|  54005286| 7515411|   54004875|\n",
      "|  53995359|  539060|   53994232|\n",
      "|  54000258| 1748716|   54000133|\n",
      "|  53999338| 2390992|   53999153|\n",
      "+----------+--------+-----------+\n",
      "only showing top 20 rows\n",
      "\n"
     ]
    }
   ],
   "source": [
    "#CHECKING THE ANSWERS DATASET\n",
    "answers.select('id_answers', 'user_id', 'question_id').show()"
   ]
  },
  {
   "cell_type": "code",
   "execution_count": 18,
   "metadata": {},
   "outputs": [
    {
     "data": {
      "text/plain": [
       "['id',\n",
       " 'display_name',\n",
       " 'reputation',\n",
       " 'website_url',\n",
       " 'location',\n",
       " 'about_me',\n",
       " 'views',\n",
       " 'up_votes',\n",
       " 'down_votes',\n",
       " 'image_url',\n",
       " 'created_at',\n",
       " 'updated_at',\n",
       " 'city',\n",
       " 'country',\n",
       " 'id_questions',\n",
       " 'user_id_questions',\n",
       " 'title',\n",
       " 'body_questions',\n",
       " 'accepted_answer_id',\n",
       " 'score_questions',\n",
       " 'view_count',\n",
       " 'comment_count_questions',\n",
       " 'created_at_questions']"
      ]
     },
     "execution_count": 18,
     "metadata": {},
     "output_type": "execute_result"
    }
   ],
   "source": [
    "joint.columns"
   ]
  },
  {
   "cell_type": "code",
   "execution_count": 19,
   "metadata": {},
   "outputs": [
    {
     "name": "stdout",
     "output_type": "stream",
     "text": [
      "+--------+-----------------+----------+--------------------+--------------------+--------------------+-----+--------+----------+--------------------+-------------------+-------------------+-----------+------------+------------+-----------------+--------------------+--------------------+------------------+---------------+----------+-----------------------+--------------------+----------+--------+-----------+--------------------+-----+-------------+-------------------+\n",
      "|      id|     display_name|reputation|         website_url|            location|            about_me|views|up_votes|down_votes|           image_url|         created_at|         updated_at|       city|     country|id_questions|user_id_questions|               title|      body_questions|accepted_answer_id|score_questions|view_count|comment_count_questions|created_at_questions|id_answers| user_id|question_id|                body|score|comment_count| created_at_answers|\n",
      "+--------+-----------------+----------+--------------------+--------------------+--------------------+-----+--------+----------+--------------------+-------------------+-------------------+-----------+------------+------------+-----------------+--------------------+--------------------+------------------+---------------+----------+-----------------------+--------------------+----------+--------+-----------+--------------------+-----+-------------+-------------------+\n",
      "| 1913629|         31415926|      1606|                null|         Netherlands|<p>We're All Igno...|  443|     258|         4|https://www.grava...|2012-12-18 17:25:45|2019-10-10 17:18:18|Netherlands|        null|    54495944|          1913629|What is the diffe...|<p>According to t...|              null|              0|       451|                      0| 2019-02-02 18:07:08|  56522564| 7493885|   54495944|<p><strong>nuxtSe...|    0|            0|2019-06-10 07:55:01|\n",
      "| 1913629|         31415926|      1606|                null|         Netherlands|<p>We're All Igno...|  443|     258|         4|https://www.grava...|2012-12-18 17:25:45|2019-10-10 17:18:18|Netherlands|        null|    54495944|          1913629|What is the diffe...|<p>According to t...|              null|              0|       451|                      0| 2019-02-02 18:07:08|  54496077| 4289649|   54495944|<p>I think of <co...|    2|            0|2019-02-02 18:20:06|\n",
      "| 1913629|         31415926|      1606|                null|         Netherlands|<p>We're All Igno...|  443|     258|         4|https://www.grava...|2012-12-18 17:25:45|2019-10-10 17:18:18|Netherlands|        null|    54495944|          1913629|What is the diffe...|<p>According to t...|              null|              0|       451|                      0| 2019-02-02 18:07:08|  54506803| 9149868|   54495944|<p>Use <code>nuxt...|    1|            0|2019-02-03 19:39:51|\n",
      "|10058906|Avantika Banerjee|        73|                null|Amsterdam, Nether...|<ul>\n",
      "<li>Data Sci...|   60|      12|         0|https://graph.fac...|2018-07-10 11:17:01|2019-09-26 10:57:47|  Amsterdam| Netherlands|    55143101|         10058906|New column based ...|<p>If we have two...|          55143316|              2|        63|                      0| 2019-03-13 13:31:35|  55144080| 4125116|   55143101|<p>This works:</p...|    0|            0|2019-03-13 14:18:09|\n",
      "|10058906|Avantika Banerjee|        73|                null|Amsterdam, Nether...|<ul>\n",
      "<li>Data Sci...|   60|      12|         0|https://graph.fac...|2018-07-10 11:17:01|2019-09-26 10:57:47|  Amsterdam| Netherlands|    55143101|         10058906|New column based ...|<p>If we have two...|          55143316|              2|        63|                      0| 2019-03-13 13:31:35|  55143316| 7964527|   55143101|<p>Check with <co...|    7|            6|2019-03-13 13:41:41|\n",
      "|10058906|Avantika Banerjee|        73|                null|Amsterdam, Nether...|<ul>\n",
      "<li>Data Sci...|   60|      12|         0|https://graph.fac...|2018-07-10 11:17:01|2019-09-26 10:57:47|  Amsterdam| Netherlands|    55143101|         10058906|New column based ...|<p>If we have two...|          55143316|              2|        63|                      0| 2019-03-13 13:31:35|  55143725| 7932273|   55143101|<p>You can do it ...|    2|            0|2019-03-13 14:00:42|\n",
      "| 1671897|      frank3stein|        75|http://frank3stei...|Rotterdam, Nether...|<p>Udacity Fronte...|   11|      15|         0|                null|2012-09-14 16:04:19|2019-10-12 18:19:02|  Rotterdam| Netherlands|    55291587|          1671897|I am using react ...|<pre class=\"lang-...|          55291620|              1|        91|                      0| 2019-03-22 01:27:55|  55291608| 1671897|   55291587|<p>In case anyone...|    0|            1|2019-03-22 01:30:35|\n",
      "| 1671897|      frank3stein|        75|http://frank3stei...|Rotterdam, Nether...|<p>Udacity Fronte...|   11|      15|         0|                null|2012-09-14 16:04:19|2019-10-12 18:19:02|  Rotterdam| Netherlands|    55291587|          1671897|I am using react ...|<pre class=\"lang-...|          55291620|              1|        91|                      0| 2019-03-22 01:27:55|  55291620| 5721245|   55291587|<p><code>setToggl...|    1|            0|2019-03-22 01:33:35|\n",
      "|11160372|          Yannick|         3|                null|Dwingeloo, Nether...|                null|   13|       0|         0|https://lh6.googl...|2019-03-06 14:38:31|2019-10-02 09:35:20|  Dwingeloo| Netherlands|    55535180|         11160372|Is there an easy ...|<p>I just started...|          55535402|              0|       126|                      0| 2019-04-05 12:15:31|  55535393| 6117675|   55535180|<p>You have a typ...|    0|            0|2019-04-05 12:27:49|\n",
      "|11160372|          Yannick|         3|                null|Dwingeloo, Nether...|                null|   13|       0|         0|https://lh6.googl...|2019-03-06 14:38:31|2019-10-02 09:35:20|  Dwingeloo| Netherlands|    55535180|         11160372|Is there an easy ...|<p>I just started...|          55535402|              0|       126|                      0| 2019-04-05 12:15:31|  55535402|10735757|   55535180|<p>Add <code>cont...|    0|            4|2019-04-05 12:28:10|\n",
      "| 4337765|   Dennis Ameling|       384|                null|         Netherlands|                null|   33|      84|         0|https://graph.fac...|2014-12-08 14:57:50|2019-10-11 09:43:06|Netherlands|        null|    54469571|          4337765|Angular load exte...|<p>Consider the f...|          54473123|              5|       940|                      0| 2019-01-31 21:34:30|  54473123| 5485167|   54469571|<p>Angular docume...|    6|            1|2019-02-01 04:57:53|\n",
      "| 4337765|   Dennis Ameling|       384|                null|         Netherlands|                null|   33|      84|         0|https://graph.fac...|2014-12-08 14:57:50|2019-10-11 09:43:06|Netherlands|        null|    54469571|          4337765|Angular load exte...|<p>Consider the f...|          54473123|              5|       940|                      0| 2019-01-31 21:34:30|  54478230| 4337765|   54469571|<p>In addition to...|    2|            0|2019-02-01 11:06:05|\n",
      "| 1913629|         31415926|      1606|                null|         Netherlands|<p>We're All Igno...|  443|     258|         4|https://www.grava...|2012-12-18 17:25:45|2019-10-10 17:18:18|Netherlands|        null|    54485785|          1913629|Nuxt deployment e...|<p>To deploy our ...|              null|              3|      1958|                      9| 2019-02-01 19:10:15|  55009566| 2966407|   54485785|<p>Try adding: <c...|    0|            0|2019-03-05 18:48:38|\n",
      "| 1913629|         31415926|      1606|                null|         Netherlands|<p>We're All Igno...|  443|     258|         4|https://www.grava...|2012-12-18 17:25:45|2019-10-10 17:18:18|Netherlands|        null|    54485785|          1913629|Nuxt deployment e...|<p>To deploy our ...|              null|              3|      1958|                      9| 2019-02-01 19:10:15|  55522258| 8787462|   54485785|<p>If errors also...|    1|            0|2019-04-04 17:55:24|\n",
      "|11067982|   Emilie van Eps|        32|                null|         Netherlands|                null|   10|       1|         0|https://lh6.googl...|2019-02-15 15:20:01|2019-08-27 12:54:11|Netherlands|        null|    54754997|         11067982|button should get...|<p>I have 50 butt...|          54755105|              3|        51|                      3| 2019-02-18 20:37:23|  54756165| 3162815|   54754997|<p><div class=\"sn...|    0|            0|2019-02-18 22:14:23|\n",
      "|11067982|   Emilie van Eps|        32|                null|         Netherlands|                null|   10|       1|         0|https://lh6.googl...|2019-02-15 15:20:01|2019-08-27 12:54:11|Netherlands|        null|    54754997|         11067982|button should get...|<p>I have 50 butt...|          54755105|              3|        51|                      3| 2019-02-18 20:37:23|  54767778| 7973110|   54754997|<p>These links al...|    0|            0|2019-02-19 13:46:57|\n",
      "|11067982|   Emilie van Eps|        32|                null|         Netherlands|                null|   10|       1|         0|https://lh6.googl...|2019-02-15 15:20:01|2019-08-27 12:54:11|Netherlands|        null|    54754997|         11067982|button should get...|<p>I have 50 butt...|          54755105|              3|        51|                      3| 2019-02-18 20:37:23|  54755105|  860099|   54754997|<p>Try </p>\n",
      "\n",
      "<pre...|    2|           12|2019-02-18 20:46:25|\n",
      "|11067982|   Emilie van Eps|        32|                null|         Netherlands|                null|   10|       1|         0|https://lh6.googl...|2019-02-15 15:20:01|2019-08-27 12:54:11|Netherlands|        null|    54754997|         11067982|button should get...|<p>I have 50 butt...|          54755105|              3|        51|                      3| 2019-02-18 20:37:23|  54755325|  103753|   54754997|<p>All the links ...|    1|            4|2019-02-18 21:04:29|\n",
      "|   25286|            GDmac|       632|                null|         Netherlands|<p>Graphic- and w...|  141|     129|         2|https://www.grava...|2008-10-05 16:13:42|2019-10-08 10:36:30|Netherlands|        null|    54853182|            25286|Promise catch, ho...|<p>I'm trying to ...|              null|              4|        35|                      0| 2019-02-24 15:01:25|  54853336| 1048572|   54853182|<p>There is absol...|    1|            2|2019-02-24 15:16:35|\n",
      "|   25286|            GDmac|       632|                null|         Netherlands|<p>Graphic- and w...|  141|     129|         2|https://www.grava...|2008-10-05 16:13:42|2019-10-08 10:36:30|Netherlands|        null|    54853182|            25286|Promise catch, ho...|<p>I'm trying to ...|              null|              4|        35|                      0| 2019-02-24 15:01:25|  54853355|  906113|   54853182|<p>To make it mor...|    3|            1|2019-02-24 15:18:05|\n",
      "+--------+-----------------+----------+--------------------+--------------------+--------------------+-----+--------+----------+--------------------+-------------------+-------------------+-----------+------------+------------+-----------------+--------------------+--------------------+------------------+---------------+----------+-----------------------+--------------------+----------+--------+-----------+--------------------+-----+-------------+-------------------+\n",
      "only showing top 20 rows\n",
      "\n"
     ]
    }
   ],
   "source": [
    "#JOINING THE NEW DATA SET WITH THE ANSWERS DATASET\n",
    "joints = joint.join(answers, joint.id_questions == answers.question_id, how='inner'); joints.show()"
   ]
  },
  {
   "cell_type": "code",
   "execution_count": 20,
   "metadata": {},
   "outputs": [
    {
     "name": "stdout",
     "output_type": "stream",
     "text": [
      "+-------------------+\n",
      "|         updated_at|\n",
      "+-------------------+\n",
      "|2019-10-10 17:18:18|\n",
      "|2019-10-10 17:18:18|\n",
      "|2019-10-10 17:18:18|\n",
      "|2019-09-26 10:57:47|\n",
      "|2019-09-26 10:57:47|\n",
      "|2019-09-26 10:57:47|\n",
      "|2019-10-12 18:19:02|\n",
      "|2019-10-12 18:19:02|\n",
      "|2019-10-02 09:35:20|\n",
      "|2019-10-02 09:35:20|\n",
      "|2019-10-11 09:43:06|\n",
      "|2019-10-11 09:43:06|\n",
      "|2019-10-10 17:18:18|\n",
      "|2019-10-10 17:18:18|\n",
      "|2019-08-27 12:54:11|\n",
      "|2019-08-27 12:54:11|\n",
      "|2019-08-27 12:54:11|\n",
      "|2019-08-27 12:54:11|\n",
      "|2019-10-08 10:36:30|\n",
      "|2019-10-08 10:36:30|\n",
      "+-------------------+\n",
      "only showing top 20 rows\n",
      "\n"
     ]
    }
   ],
   "source": [
    "joints.select('updated_at').filter(joints.updated_at.isNotNull()).show()"
   ]
  },
  {
   "cell_type": "code",
   "execution_count": 21,
   "metadata": {},
   "outputs": [
    {
     "name": "stdout",
     "output_type": "stream",
     "text": [
      "+-------------------+\n",
      "|    min(updated_at)|\n",
      "+-------------------+\n",
      "|2019-01-10 09:15:31|\n",
      "+-------------------+\n",
      "\n"
     ]
    }
   ],
   "source": [
    "#RETURNING THE MINIMUM 'updated_at' DATE\n",
    "new = joints.select(F.min('updated_at')); new.show()"
   ]
  },
  {
   "cell_type": "code",
   "execution_count": 22,
   "metadata": {},
   "outputs": [
    {
     "data": {
      "text/plain": [
       "[('id', 'int'),\n",
       " ('display_name', 'string'),\n",
       " ('reputation', 'int'),\n",
       " ('website_url', 'string'),\n",
       " ('location', 'string'),\n",
       " ('about_me', 'string'),\n",
       " ('views', 'int'),\n",
       " ('up_votes', 'int'),\n",
       " ('down_votes', 'int'),\n",
       " ('image_url', 'string'),\n",
       " ('created_at', 'string'),\n",
       " ('updated_at', 'string'),\n",
       " ('city', 'string'),\n",
       " ('country', 'string'),\n",
       " ('id_questions', 'int'),\n",
       " ('user_id_questions', 'int'),\n",
       " ('title', 'string'),\n",
       " ('body_questions', 'string'),\n",
       " ('accepted_answer_id', 'int'),\n",
       " ('score_questions', 'int'),\n",
       " ('view_count', 'int'),\n",
       " ('comment_count_questions', 'int'),\n",
       " ('created_at_questions', 'string'),\n",
       " ('id_answers', 'int'),\n",
       " ('user_id', 'int'),\n",
       " ('question_id', 'int'),\n",
       " ('body', 'string'),\n",
       " ('score', 'int'),\n",
       " ('comment_count', 'int'),\n",
       " ('created_at_answers', 'string')]"
      ]
     },
     "execution_count": 22,
     "metadata": {},
     "output_type": "execute_result"
    }
   ],
   "source": [
    "joints.dtypes"
   ]
  },
  {
   "cell_type": "code",
   "execution_count": 31,
   "metadata": {},
   "outputs": [],
   "source": [
    "#LOADING THE FINAL DATASET TO DBEAVER USING POSTGRESQL\n",
    "joints.write.format(\"jdbc\").options(\n",
    "    url='jdbc:postgresql://localhost/postgres',\n",
    "    driver='org.postgresql.Driver',\n",
    "    user='postgres',\n",
    "    password='postgres',\n",
    "    dbtable='stackoverflow_filtered.results'\n",
    ").save(mode='append')"
   ]
  },
  {
   "cell_type": "code",
   "execution_count": 24,
   "metadata": {},
   "outputs": [
    {
     "data": {
      "text/plain": [
       "['id_questions',\n",
       " 'user_id_questions',\n",
       " 'title',\n",
       " 'body_questions',\n",
       " 'accepted_answer_id',\n",
       " 'score_questions',\n",
       " 'view_count',\n",
       " 'comment_count_questions',\n",
       " 'created_at_questions']"
      ]
     },
     "execution_count": 24,
     "metadata": {},
     "output_type": "execute_result"
    }
   ],
   "source": [
    "questions.columns"
   ]
  },
  {
   "cell_type": "code",
   "execution_count": 25,
   "metadata": {},
   "outputs": [
    {
     "data": {
      "text/plain": [
       "['id_answers',\n",
       " 'user_id',\n",
       " 'question_id',\n",
       " 'body',\n",
       " 'score',\n",
       " 'comment_count',\n",
       " 'created_at_answers']"
      ]
     },
     "execution_count": 25,
     "metadata": {},
     "output_type": "execute_result"
    }
   ],
   "source": [
    "answers.columns"
   ]
  },
  {
   "cell_type": "code",
   "execution_count": 26,
   "metadata": {},
   "outputs": [
    {
     "data": {
      "text/plain": [
       "['id',\n",
       " 'display_name',\n",
       " 'reputation',\n",
       " 'website_url',\n",
       " 'location',\n",
       " 'about_me',\n",
       " 'views',\n",
       " 'up_votes',\n",
       " 'down_votes',\n",
       " 'image_url',\n",
       " 'created_at',\n",
       " 'updated_at',\n",
       " 'city',\n",
       " 'country']"
      ]
     },
     "execution_count": 26,
     "metadata": {},
     "output_type": "execute_result"
    }
   ],
   "source": [
    "users.columns"
   ]
  },
  {
   "cell_type": "code",
   "execution_count": null,
   "metadata": {},
   "outputs": [],
   "source": []
  }
 ],
 "metadata": {
  "kernelspec": {
   "display_name": "Python 3",
   "language": "python",
   "name": "python3"
  },
  "language_info": {
   "codemirror_mode": {
    "name": "ipython",
    "version": 3
   },
   "file_extension": ".py",
   "mimetype": "text/x-python",
   "name": "python",
   "nbconvert_exporter": "python",
   "pygments_lexer": "ipython3",
   "version": "3.7.7"
  }
 },
 "nbformat": 4,
 "nbformat_minor": 4
}
